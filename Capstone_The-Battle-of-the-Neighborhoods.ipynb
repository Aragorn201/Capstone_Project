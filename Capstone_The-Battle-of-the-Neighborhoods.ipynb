{
 "cells": [
  {
   "cell_type": "markdown",
   "metadata": {
    "collapsed": true
   },
   "source": [
    "# Capstone Project - The Battle of the Neighborhoods (Week 2)\n",
    "### Applied Data Science Capstone by IBM/Coursera"
   ]
  },
  {
   "cell_type": "markdown",
   "metadata": {},
   "source": [
    "## Table of contents\n",
    "* [Introduction: Business Problem](#introduction)\n",
    "* [Data](#data)\n",
    "* [Methodology](#methodology)\n",
    "* [Analysis](#analysis)\n",
    "* [Results and Discussion](#results)\n",
    "* [Conclusion](#conclusion)"
   ]
  },
  {
   "cell_type": "markdown",
   "metadata": {},
   "source": [
    "Before we get the data and start exploring it, let's download all the dependencies that we will need.\n"
   ]
  },
  {
   "cell_type": "code",
   "execution_count": 525,
   "metadata": {},
   "outputs": [
    {
     "name": "stdout",
     "output_type": "stream",
     "text": [
      "Libraries imported.\n"
     ]
    }
   ],
   "source": [
    "import numpy as np # library to handle data in a vectorized manner\n",
    "\n",
    "import pandas as pd # library for data analsysis\n",
    "\n",
    "import json # library to handle JSON files\n",
    "\n",
    "from geopy.geocoders import Nominatim # convert an address into latitude and longitude values\n",
    "\n",
    "import requests # library to handle requests\n",
    "from pandas.io.json import json_normalize # tranform JSON file into a pandas dataframe\n",
    "\n",
    "# Matplotlib and associated plotting modules\n",
    "import matplotlib.cm as cm\n",
    "import matplotlib.colors as colors\n",
    "\n",
    "# import k-means from clustering stage\n",
    "from sklearn.cluster import KMeans\n",
    "\n",
    "import folium # map rendering library\n",
    "\n",
    "print('Libraries imported.')"
   ]
  },
  {
   "cell_type": "markdown",
   "metadata": {},
   "source": [
    "\n",
    "\n",
    "## Introduction: Business Problem <a name=\"introduction\"></a>"
   ]
  },
  {
   "cell_type": "markdown",
   "metadata": {},
   "source": [
    "John lives and works in Bronx, New York. He has been offered a new work opportunity to work in Staten Island which is far from his home in his neighborhood.\n",
    "John is willing to accept the job offer if he manages to find a neighborhood in Staten Island similar to his neighborhood in Bronx where he can move in.\n",
    "We can help john take a decision by looking for similar neighborhoods in Staten Island where he can live near his new job. \n",
    "\n",
    "What Staten Island neighborhoods could be similar to John’s neighborhood?\n",
    "\n",
    "We will use our data science powers to generate a few most promissing neighborhoods based on this criteria. Advantages of each area will then be clearly expressed so that best possible final location can be chosen by John."
   ]
  },
  {
   "cell_type": "markdown",
   "metadata": {},
   "source": [
    "## Data <a name=\"data\"></a>"
   ]
  },
  {
   "cell_type": "markdown",
   "metadata": {},
   "source": [
    "We will need data from Staten Island, NY and john’s neighborhood. \n",
    "The data must include:\n",
    "* Neighborhood name, latitude and longitude of each neighborhood in Staten Island.\n",
    "* Neighborhood name, latitude and longitude of each neighborhood of John’s address.\n",
    "\n",
    "Then, we analyze each neighborhood by calling foursquare venues and their categories in order to rank each neighborhood from Staten Island. The same analysis must be done on John’s neighborhood while normalizing the ranking of the neighborhoods from Staten island and John’s neighborhood."
   ]
  },
  {
   "cell_type": "markdown",
   "metadata": {},
   "source": [
    "### Neighborhoods of New York\n",
    "\n",
    "Neighborhood has a total of 5 boroughs and 306 neighborhoods. In order to segement the neighborhoods and explore them, we will essentially need a dataset that contains the 5 boroughs and the neighborhoods that exist in each borough as well as the the latitude and logitude coordinates of each neighborhood. \n"
   ]
  },
  {
   "cell_type": "code",
   "execution_count": 526,
   "metadata": {},
   "outputs": [
    {
     "name": "stdout",
     "output_type": "stream",
     "text": [
      "Data downloaded!\n"
     ]
    }
   ],
   "source": [
    "!wget -q -O 'newyork_data.json' https://cf-courses-data.s3.us.cloud-object-storage.appdomain.cloud/IBMDeveloperSkillsNetwork-DS0701EN-SkillsNetwork/labs/newyork_data.json\n",
    "print('Data downloaded!')"
   ]
  },
  {
   "cell_type": "markdown",
   "metadata": {},
   "source": [
    "#### Load and explore the data\n"
   ]
  },
  {
   "cell_type": "code",
   "execution_count": 1042,
   "metadata": {},
   "outputs": [],
   "source": [
    "with open('newyork_data.json') as json_data:\n",
    "    newyork_data = json.load(json_data)\n",
    "#newyork_data"
   ]
  },
  {
   "cell_type": "code",
   "execution_count": 1043,
   "metadata": {},
   "outputs": [
    {
     "data": {
      "text/plain": [
       "{'type': 'Feature',\n",
       " 'id': 'nyu_2451_34572.1',\n",
       " 'geometry': {'type': 'Point',\n",
       "  'coordinates': [-73.84720052054902, 40.89470517661]},\n",
       " 'geometry_name': 'geom',\n",
       " 'properties': {'name': 'Wakefield',\n",
       "  'stacked': 1,\n",
       "  'annoline1': 'Wakefield',\n",
       "  'annoline2': None,\n",
       "  'annoline3': None,\n",
       "  'annoangle': 0.0,\n",
       "  'borough': 'Bronx',\n",
       "  'bbox': [-73.84720052054902,\n",
       "   40.89470517661,\n",
       "   -73.84720052054902,\n",
       "   40.89470517661]}}"
      ]
     },
     "execution_count": 1043,
     "metadata": {},
     "output_type": "execute_result"
    }
   ],
   "source": [
    "neighborhoods_data = newyork_data['features']\n",
    "neighborhoods_data[0]"
   ]
  },
  {
   "cell_type": "markdown",
   "metadata": {},
   "source": [
    "#### Tranform the data into a _pandas_ dataframe\n"
   ]
  },
  {
   "cell_type": "code",
   "execution_count": 633,
   "metadata": {},
   "outputs": [
    {
     "data": {
      "text/html": [
       "<div>\n",
       "<style scoped>\n",
       "    .dataframe tbody tr th:only-of-type {\n",
       "        vertical-align: middle;\n",
       "    }\n",
       "\n",
       "    .dataframe tbody tr th {\n",
       "        vertical-align: top;\n",
       "    }\n",
       "\n",
       "    .dataframe thead th {\n",
       "        text-align: right;\n",
       "    }\n",
       "</style>\n",
       "<table border=\"1\" class=\"dataframe\">\n",
       "  <thead>\n",
       "    <tr style=\"text-align: right;\">\n",
       "      <th></th>\n",
       "      <th>Borough</th>\n",
       "      <th>Neighborhood</th>\n",
       "      <th>Latitude</th>\n",
       "      <th>Longitude</th>\n",
       "    </tr>\n",
       "  </thead>\n",
       "  <tbody>\n",
       "    <tr>\n",
       "      <th>0</th>\n",
       "      <td>Bronx</td>\n",
       "      <td>Wakefield</td>\n",
       "      <td>40.894705</td>\n",
       "      <td>-73.847201</td>\n",
       "    </tr>\n",
       "    <tr>\n",
       "      <th>1</th>\n",
       "      <td>Bronx</td>\n",
       "      <td>Co-op City</td>\n",
       "      <td>40.874294</td>\n",
       "      <td>-73.829939</td>\n",
       "    </tr>\n",
       "    <tr>\n",
       "      <th>2</th>\n",
       "      <td>Bronx</td>\n",
       "      <td>Eastchester</td>\n",
       "      <td>40.887556</td>\n",
       "      <td>-73.827806</td>\n",
       "    </tr>\n",
       "    <tr>\n",
       "      <th>3</th>\n",
       "      <td>Bronx</td>\n",
       "      <td>Fieldston</td>\n",
       "      <td>40.895437</td>\n",
       "      <td>-73.905643</td>\n",
       "    </tr>\n",
       "    <tr>\n",
       "      <th>4</th>\n",
       "      <td>Bronx</td>\n",
       "      <td>Riverdale</td>\n",
       "      <td>40.890834</td>\n",
       "      <td>-73.912585</td>\n",
       "    </tr>\n",
       "  </tbody>\n",
       "</table>\n",
       "</div>"
      ],
      "text/plain": [
       "  Borough Neighborhood   Latitude  Longitude\n",
       "0   Bronx    Wakefield  40.894705 -73.847201\n",
       "1   Bronx   Co-op City  40.874294 -73.829939\n",
       "2   Bronx  Eastchester  40.887556 -73.827806\n",
       "3   Bronx    Fieldston  40.895437 -73.905643\n",
       "4   Bronx    Riverdale  40.890834 -73.912585"
      ]
     },
     "execution_count": 633,
     "metadata": {},
     "output_type": "execute_result"
    }
   ],
   "source": [
    "# define the dataframe columns\n",
    "column_names = ['Borough', 'Neighborhood', 'Latitude', 'Longitude'] \n",
    "\n",
    "# instantiate the dataframe\n",
    "df_NewYork = pd.DataFrame(columns=column_names)\n",
    "#adding data to df from list\n",
    "for data in neighborhoods_data:\n",
    "    borough = neighborhood_name = data['properties']['borough'] \n",
    "    neighborhood_name = data['properties']['name']\n",
    "        \n",
    "    neighborhood_latlon = data['geometry']['coordinates']\n",
    "    neighborhood_lat = neighborhood_latlon[1]\n",
    "    neighborhood_lon = neighborhood_latlon[0]\n",
    "    \n",
    "    df_NewYork = df_NewYork.append({'Borough': borough,\n",
    "                                          'Neighborhood': neighborhood_name,\n",
    "                                          'Latitude': neighborhood_lat,\n",
    "                                          'Longitude': neighborhood_lon}, ignore_index=True)\n",
    "df_NewYork.head()"
   ]
  },
  {
   "cell_type": "code",
   "execution_count": 634,
   "metadata": {},
   "outputs": [
    {
     "data": {
      "text/plain": [
       "(306, 4)"
      ]
     },
     "execution_count": 634,
     "metadata": {},
     "output_type": "execute_result"
    }
   ],
   "source": [
    "df_NewYork.shape"
   ]
  },
  {
   "cell_type": "markdown",
   "metadata": {},
   "source": [
    "#### Let's take Staten Islan data\n"
   ]
  },
  {
   "cell_type": "code",
   "execution_count": 882,
   "metadata": {},
   "outputs": [
    {
     "data": {
      "text/html": [
       "<div>\n",
       "<style scoped>\n",
       "    .dataframe tbody tr th:only-of-type {\n",
       "        vertical-align: middle;\n",
       "    }\n",
       "\n",
       "    .dataframe tbody tr th {\n",
       "        vertical-align: top;\n",
       "    }\n",
       "\n",
       "    .dataframe thead th {\n",
       "        text-align: right;\n",
       "    }\n",
       "</style>\n",
       "<table border=\"1\" class=\"dataframe\">\n",
       "  <thead>\n",
       "    <tr style=\"text-align: right;\">\n",
       "      <th></th>\n",
       "      <th>Borough</th>\n",
       "      <th>Neighborhood</th>\n",
       "      <th>Latitude</th>\n",
       "      <th>Longitude</th>\n",
       "    </tr>\n",
       "  </thead>\n",
       "  <tbody>\n",
       "    <tr>\n",
       "      <th>0</th>\n",
       "      <td>Staten Island</td>\n",
       "      <td>St. George</td>\n",
       "      <td>40.644982</td>\n",
       "      <td>-74.079353</td>\n",
       "    </tr>\n",
       "    <tr>\n",
       "      <th>1</th>\n",
       "      <td>Staten Island</td>\n",
       "      <td>New Brighton</td>\n",
       "      <td>40.640615</td>\n",
       "      <td>-74.087017</td>\n",
       "    </tr>\n",
       "    <tr>\n",
       "      <th>2</th>\n",
       "      <td>Staten Island</td>\n",
       "      <td>Stapleton</td>\n",
       "      <td>40.626928</td>\n",
       "      <td>-74.077902</td>\n",
       "    </tr>\n",
       "    <tr>\n",
       "      <th>3</th>\n",
       "      <td>Staten Island</td>\n",
       "      <td>Rosebank</td>\n",
       "      <td>40.615305</td>\n",
       "      <td>-74.069805</td>\n",
       "    </tr>\n",
       "    <tr>\n",
       "      <th>4</th>\n",
       "      <td>Staten Island</td>\n",
       "      <td>West Brighton</td>\n",
       "      <td>40.631879</td>\n",
       "      <td>-74.107182</td>\n",
       "    </tr>\n",
       "  </tbody>\n",
       "</table>\n",
       "</div>"
      ],
      "text/plain": [
       "         Borough   Neighborhood   Latitude  Longitude\n",
       "0  Staten Island     St. George  40.644982 -74.079353\n",
       "1  Staten Island   New Brighton  40.640615 -74.087017\n",
       "2  Staten Island      Stapleton  40.626928 -74.077902\n",
       "3  Staten Island       Rosebank  40.615305 -74.069805\n",
       "4  Staten Island  West Brighton  40.631879 -74.107182"
      ]
     },
     "execution_count": 882,
     "metadata": {},
     "output_type": "execute_result"
    }
   ],
   "source": [
    "df_SI=df_NewYork[df_NewYork['Borough']=='Staten Island'].reset_index(drop=True)\n",
    "df_SI.head()"
   ]
  },
  {
   "cell_type": "code",
   "execution_count": 883,
   "metadata": {},
   "outputs": [
    {
     "data": {
      "text/plain": [
       "(63, 4)"
      ]
     },
     "execution_count": 883,
     "metadata": {},
     "output_type": "execute_result"
    }
   ],
   "source": [
    "df_SI.shape"
   ]
  },
  {
   "cell_type": "markdown",
   "metadata": {},
   "source": [
    "#### Let's now get John's adress latitude and longitude\n",
    "John lives in: 522 E 189th St Belmont The Bronx, NY\n"
   ]
  },
  {
   "cell_type": "code",
   "execution_count": 1013,
   "metadata": {},
   "outputs": [
    {
     "name": "stdout",
     "output_type": "stream",
     "text": [
      "The geograpical coordinate of John adress are 40.859823, -73.8906714.\n"
     ]
    }
   ],
   "source": [
    "address = '522 E 189th St Belmont The Bronx, NY'\n",
    "\n",
    "geolocator = Nominatim(user_agent=\"ny_explorer\")\n",
    "John_location = geolocator.geocode(address)\n",
    "John_latitude = John_location.latitude\n",
    "John_longitude = John_location.longitude\n",
    "print('The geograpical coordinate of John adress are {}, {}.'.format(\n",
    "    John_latitude, John_longitude))"
   ]
  },
  {
   "cell_type": "markdown",
   "metadata": {},
   "source": [
    "#### We add John Adress to the dataframe\n",
    "\n"
   ]
  },
  {
   "cell_type": "code",
   "execution_count": 885,
   "metadata": {},
   "outputs": [
    {
     "data": {
      "text/html": [
       "<div>\n",
       "<style scoped>\n",
       "    .dataframe tbody tr th:only-of-type {\n",
       "        vertical-align: middle;\n",
       "    }\n",
       "\n",
       "    .dataframe tbody tr th {\n",
       "        vertical-align: top;\n",
       "    }\n",
       "\n",
       "    .dataframe thead th {\n",
       "        text-align: right;\n",
       "    }\n",
       "</style>\n",
       "<table border=\"1\" class=\"dataframe\">\n",
       "  <thead>\n",
       "    <tr style=\"text-align: right;\">\n",
       "      <th></th>\n",
       "      <th>Borough</th>\n",
       "      <th>Neighborhood</th>\n",
       "      <th>Latitude</th>\n",
       "      <th>Longitude</th>\n",
       "    </tr>\n",
       "  </thead>\n",
       "  <tbody>\n",
       "    <tr>\n",
       "      <th>59</th>\n",
       "      <td>Staten Island</td>\n",
       "      <td>Prince's Bay</td>\n",
       "      <td>40.526264</td>\n",
       "      <td>-74.201526</td>\n",
       "    </tr>\n",
       "    <tr>\n",
       "      <th>60</th>\n",
       "      <td>Staten Island</td>\n",
       "      <td>Lighthouse Hill</td>\n",
       "      <td>40.576506</td>\n",
       "      <td>-74.137927</td>\n",
       "    </tr>\n",
       "    <tr>\n",
       "      <th>61</th>\n",
       "      <td>Staten Island</td>\n",
       "      <td>Richmond Valley</td>\n",
       "      <td>40.519541</td>\n",
       "      <td>-74.229571</td>\n",
       "    </tr>\n",
       "    <tr>\n",
       "      <th>62</th>\n",
       "      <td>Staten Island</td>\n",
       "      <td>Fox Hills</td>\n",
       "      <td>40.617311</td>\n",
       "      <td>-74.081740</td>\n",
       "    </tr>\n",
       "    <tr>\n",
       "      <th>63</th>\n",
       "      <td>Bronx</td>\n",
       "      <td>Belmont</td>\n",
       "      <td>40.859823</td>\n",
       "      <td>-73.890671</td>\n",
       "    </tr>\n",
       "  </tbody>\n",
       "</table>\n",
       "</div>"
      ],
      "text/plain": [
       "          Borough     Neighborhood   Latitude  Longitude\n",
       "59  Staten Island     Prince's Bay  40.526264 -74.201526\n",
       "60  Staten Island  Lighthouse Hill  40.576506 -74.137927\n",
       "61  Staten Island  Richmond Valley  40.519541 -74.229571\n",
       "62  Staten Island        Fox Hills  40.617311 -74.081740\n",
       "63          Bronx          Belmont  40.859823 -73.890671"
      ]
     },
     "execution_count": 885,
     "metadata": {},
     "output_type": "execute_result"
    }
   ],
   "source": [
    "john_row={'Borough':'Bronx',\n",
    "          'Neighborhood':'Belmont',\n",
    "          'Longitude':John_longitude,\n",
    "          'Latitude':John_latitude\n",
    "         }\n",
    "df_SI=df_SI.append(john_row, ignore_index=True)\n",
    "df_SI.tail()"
   ]
  },
  {
   "cell_type": "markdown",
   "metadata": {},
   "source": [
    "#### Now we create a map of Staten island neighborhoods along john's adress\n"
   ]
  },
  {
   "cell_type": "code",
   "execution_count": 886,
   "metadata": {
    "scrolled": true
   },
   "outputs": [
    {
     "data": {
      "text/html": [
       "<div style=\"width:100%;\"><div style=\"position:relative;width:100%;height:0;padding-bottom:60%;\"><span style=\"color:#565656\">Make this Notebook Trusted to load map: File -> Trust Notebook</span><iframe src=\"about:blank\" style=\"position:absolute;width:100%;height:100%;left:0;top:0;border:none !important;\" data-html=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 onload=\"this.contentDocument.open();this.contentDocument.write(atob(this.getAttribute('data-html')));this.contentDocument.close();\" allowfullscreen webkitallowfullscreen mozallowfullscreen></iframe></div></div>"
      ],
      "text/plain": [
       "<folium.folium.Map at 0x7f80d7e546d0>"
      ]
     },
     "execution_count": 886,
     "metadata": {},
     "output_type": "execute_result"
    }
   ],
   "source": [
    "# create map of New York using latitude and longitude values\n",
    "map_01 = folium.Map(location=[John_latitude, John_longitude], zoom_start=9)\n",
    "\n",
    "# add markers to map\n",
    "for lat, lng, borough, neighborhood in zip(df_SI['Latitude'],\n",
    "                                           df_SI['Longitude'],\n",
    "                                           df_SI['Borough'],\n",
    "                                           df_SI['Neighborhood']):\n",
    "    label = '{}, {}'.format(neighborhood, borough)\n",
    "    label = folium.Popup(label, parse_html=True)\n",
    "    folium.CircleMarker(\n",
    "        [lat, lng],\n",
    "        radius=5,\n",
    "        popup=label,\n",
    "        color='blue',\n",
    "        fill=True,\n",
    "        fill_color='#3186cc',\n",
    "        fill_opacity=0.7,\n",
    "        parse_html=False).add_to(map_01)  \n",
    "    \n",
    "map_01\n",
    "#map_01.save('map_01.html')"
   ]
  },
  {
   "cell_type": "markdown",
   "metadata": {},
   "source": [
    "#### Maps are rendered as html pages if not showing , please see git repositry\n"
   ]
  },
  {
   "cell_type": "markdown",
   "metadata": {},
   "source": [
    "## Methodology <a name=\"Methodlogy\"></a>"
   ]
  },
  {
   "cell_type": "markdown",
   "metadata": {},
   "source": [
    "### Foursquare\n",
    "Now that we have our locations, let's use Foursquare API to get infos on each neighborhood.\n",
    "\n",
    "We're interested in venues call in order to categorize our neighborhood"
   ]
  },
  {
   "cell_type": "markdown",
   "metadata": {},
   "source": [
    "#### Define Foursquare Credentials and Version\n"
   ]
  },
  {
   "cell_type": "code",
   "execution_count": 661,
   "metadata": {},
   "outputs": [
    {
     "name": "stdout",
     "output_type": "stream",
     "text": [
      "Your credentails:\n",
      "CLIENT_ID: N4JYMKA3RZZCDDNABWVMV3D4HNAXHKKUVYJQBZNBTUKOPICV\n",
      "CLIENT_SECRET:E4DMWWD0YZXEZNRI3PDGAGZ2T1KWABFJWSQPD5EXEJISGBP2\n"
     ]
    }
   ],
   "source": [
    "CLIENT_ID = 'N4JYMKA3RZZCDDNABWVMV3D4HNAXHKKUVYJQBZNBTUKOPICV' # your Foursquare ID\n",
    "CLIENT_SECRET = 'E4DMWWD0YZXEZNRI3PDGAGZ2T1KWABFJWSQPD5EXEJISGBP2' # your Foursquare Secret\n",
    "VERSION = '20180605' # Foursquare API version\n",
    "LIMIT = 100 # A default Foursquare API limit value\n",
    "\n",
    "print('Your credentails:')\n",
    "print('CLIENT_ID: ' + CLIENT_ID)\n",
    "print('CLIENT_SECRET:' + CLIENT_SECRET)"
   ]
  },
  {
   "cell_type": "markdown",
   "metadata": {},
   "source": [
    "#### Let's create a function to get the top venues of our data in a radius of 800 m"
   ]
  },
  {
   "cell_type": "code",
   "execution_count": 887,
   "metadata": {},
   "outputs": [],
   "source": [
    "def getNearbyVenues(names, latitudes, longitudes, radius=800):\n",
    "    \n",
    "    venues_list=[]\n",
    "    for name, lat, lng in zip(names, latitudes, longitudes):\n",
    "        print(name)\n",
    "            \n",
    "        # create the API request URL\n",
    "        url = 'https://api.foursquare.com/v2/venues/explore?&client_id={}&client_secret={}&v={}&ll={},{}&radius={}&limit={}'.format(\n",
    "            CLIENT_ID, \n",
    "            CLIENT_SECRET, \n",
    "            VERSION, \n",
    "            lat, \n",
    "            lng, \n",
    "            radius, \n",
    "            LIMIT)\n",
    "            \n",
    "        # make the GET request\n",
    "        results = requests.get(url).json()[\"response\"]['groups'][0]['items']\n",
    "        \n",
    "        # return only relevant information for each nearby venue\n",
    "        venues_list.append([(\n",
    "            name, \n",
    "            lat, \n",
    "            lng, \n",
    "            v['venue']['name'], \n",
    "            v['venue']['location']['lat'], \n",
    "            v['venue']['location']['lng'],  \n",
    "            v['venue']['categories'][0]['name']) for v in results])\n",
    "\n",
    "    nearby_venues = pd.DataFrame([item for venue_list in venues_list for item in venue_list])\n",
    "    nearby_venues.columns = ['Neighborhood', \n",
    "                  'Neighborhood Latitude', \n",
    "                  'Neighborhood Longitude', \n",
    "                  'Venue', \n",
    "                  'Venue Latitude', \n",
    "                  'Venue Longitude', \n",
    "                  'Venue Category']\n",
    "    \n",
    "    return(nearby_venues)"
   ]
  },
  {
   "cell_type": "markdown",
   "metadata": {},
   "source": [
    "#### Now write the code to run the above function on each neighborhood and create a new dataframe called  Data_venues\n"
   ]
  },
  {
   "cell_type": "code",
   "execution_count": 888,
   "metadata": {},
   "outputs": [
    {
     "name": "stdout",
     "output_type": "stream",
     "text": [
      "St. George\n",
      "New Brighton\n",
      "Stapleton\n",
      "Rosebank\n",
      "West Brighton\n",
      "Grymes Hill\n",
      "Todt Hill\n",
      "South Beach\n",
      "Port Richmond\n",
      "Mariner's Harbor\n",
      "Port Ivory\n",
      "Castleton Corners\n",
      "New Springville\n",
      "Travis\n",
      "New Dorp\n",
      "Oakwood\n",
      "Great Kills\n",
      "Eltingville\n",
      "Annadale\n",
      "Woodrow\n",
      "Tottenville\n",
      "Tompkinsville\n",
      "Silver Lake\n",
      "Sunnyside\n",
      "Park Hill\n",
      "Westerleigh\n",
      "Graniteville\n",
      "Arlington\n",
      "Arrochar\n",
      "Grasmere\n",
      "Old Town\n",
      "Dongan Hills\n",
      "Midland Beach\n",
      "Grant City\n",
      "New Dorp Beach\n",
      "Bay Terrace\n",
      "Huguenot\n",
      "Pleasant Plains\n",
      "Butler Manor\n",
      "Charleston\n",
      "Rossville\n",
      "Arden Heights\n",
      "Greenridge\n",
      "Heartland Village\n",
      "Chelsea\n",
      "Bloomfield\n",
      "Bulls Head\n",
      "Richmond Town\n",
      "Shore Acres\n",
      "Clifton\n",
      "Concord\n",
      "Emerson Hill\n",
      "Randall Manor\n",
      "Howland Hook\n",
      "Elm Park\n",
      "Manor Heights\n",
      "Willowbrook\n",
      "Sandy Ground\n",
      "Egbertville\n",
      "Prince's Bay\n",
      "Lighthouse Hill\n",
      "Richmond Valley\n",
      "Fox Hills\n",
      "Belmont\n"
     ]
    }
   ],
   "source": [
    "# type your answer here\n",
    "Data_venues = getNearbyVenues(names=df_SI['Neighborhood'],\n",
    "                                   latitudes=df_SI['Latitude'],\n",
    "                                   longitudes=df_SI['Longitude']\n",
    "                                  )"
   ]
  },
  {
   "cell_type": "markdown",
   "metadata": {},
   "source": [
    "### Let's fetch for the most abundant venues category in John's adress"
   ]
  },
  {
   "cell_type": "code",
   "execution_count": 976,
   "metadata": {},
   "outputs": [],
   "source": [
    "df_Belmont=Data_venues[Data_venues['Neighborhood']=='Belmont'][['Neighborhood','Venue Category']]\n",
    "df_Belmont.index=np.arange(len(df_Belmont))\n",
    "Venues_Belmont=df_Belmont.groupby(['Venue Category']).count()\n",
    "Venues_Belmont=Venues_Belmont.sort_values('Neighborhood',ascending=False)\n",
    "Venues_Belmont.columns=['Belmont']\n",
    "Belmont_top_cat=Venues_Belmont.head(8).index.to_list()"
   ]
  },
  {
   "cell_type": "code",
   "execution_count": 977,
   "metadata": {},
   "outputs": [
    {
     "data": {
      "image/png": "[encoded data removed]",
      "text/plain": [
       "<Figure size 792x432 with 1 Axes>"
      ]
     },
     "metadata": {
      "needs_background": "light"
     },
     "output_type": "display_data"
    }
   ],
   "source": [
    "Venues_Belmont.head(8).plot(kind='bar',figsize=(11,6))\n",
    "plt.title('Top venues categories distribution in Belmont',size=15,color='black')\n",
    "plt.xlabel('Top venues categories',size=12)\n",
    "plt.ylabel('Venues categries number',size=12)\n",
    "plt.tight_layout()\n",
    "plt.savefig('img1.png')"
   ]
  },
  {
   "cell_type": "code",
   "execution_count": 978,
   "metadata": {},
   "outputs": [
    {
     "data": {
      "image/png": "[encoded data removed]",
      "text/plain": [
       "<Figure size 792x432 with 1 Axes>"
      ]
     },
     "metadata": {},
     "output_type": "display_data"
    }
   ],
   "source": [
    "labels = Venues_Belmont.head(10).index.to_list()\n",
    "sizes = Venues_Belmont.head(10)['Belmont'].to_list()\n",
    "lst=np.zeros(len(labels))\n",
    "lst[0]=0.15\n",
    "lst[1]=.15\n",
    "lst[2]=.1\n",
    "exp=tuple(lst)\n",
    "##\n",
    "fig1, ax1 = plt.subplots(figsize=(11,6))\n",
    "ax1.pie(sizes ,labels=labels, explode= exp, autopct='%1.1f%%',\n",
    "        shadow=True, startangle=90)\n",
    "ax1.axis('equal')  # Equal aspect ratio ensures that pie is drawn as a circle.\n",
    "ax1.set_title('Top Venues categories distribution in Belmont', y=-0.1,\n",
    "              color='black',size=16)\n",
    "plt.tight_layout()\n",
    "plt.savefig('img2.png')"
   ]
  },
  {
   "cell_type": "markdown",
   "metadata": {},
   "source": [
    "#### John lives in a Neighberhood with a lot of italian restaurants and many proximity shops for food and drinks"
   ]
  },
  {
   "cell_type": "markdown",
   "metadata": {},
   "source": [
    "How many vanues categories do we have in our data ?"
   ]
  },
  {
   "cell_type": "code",
   "execution_count": 979,
   "metadata": {},
   "outputs": [
    {
     "name": "stdout",
     "output_type": "stream",
     "text": [
      "(1743, 7)\n"
     ]
    },
    {
     "data": {
      "text/plain": [
       "212"
      ]
     },
     "execution_count": 979,
     "metadata": {},
     "output_type": "execute_result"
    }
   ],
   "source": [
    "print(Data_venues.shape)\n",
    "len(Data_venues['Venue Category'].unique())"
   ]
  },
  {
   "cell_type": "markdown",
   "metadata": {},
   "source": [
    "## Analysis <a name=\"analysis\"></a>"
   ]
  },
  {
   "cell_type": "markdown",
   "metadata": {},
   "source": [
    "Let's perform some basic explanatory data analysis and derive some additional info from our raw data. **First let's do onehot enconding to venues category**:"
   ]
  },
  {
   "cell_type": "code",
   "execution_count": 896,
   "metadata": {},
   "outputs": [
    {
     "data": {
      "text/html": [
       "<div>\n",
       "<style scoped>\n",
       "    .dataframe tbody tr th:only-of-type {\n",
       "        vertical-align: middle;\n",
       "    }\n",
       "\n",
       "    .dataframe tbody tr th {\n",
       "        vertical-align: top;\n",
       "    }\n",
       "\n",
       "    .dataframe thead th {\n",
       "        text-align: right;\n",
       "    }\n",
       "</style>\n",
       "<table border=\"1\" class=\"dataframe\">\n",
       "  <thead>\n",
       "    <tr style=\"text-align: right;\">\n",
       "      <th></th>\n",
       "      <th>Neighborhood</th>\n",
       "      <th>American Restaurant</th>\n",
       "      <th>Arcade</th>\n",
       "      <th>Art Gallery</th>\n",
       "      <th>Art Museum</th>\n",
       "      <th>Arts &amp; Crafts Store</th>\n",
       "      <th>Asian Restaurant</th>\n",
       "      <th>Athletics &amp; Sports</th>\n",
       "      <th>Automotive Shop</th>\n",
       "      <th>BBQ Joint</th>\n",
       "      <th>...</th>\n",
       "      <th>Train Station</th>\n",
       "      <th>Vegetarian / Vegan Restaurant</th>\n",
       "      <th>Video Game Store</th>\n",
       "      <th>Video Store</th>\n",
       "      <th>Vietnamese Restaurant</th>\n",
       "      <th>Weight Loss Center</th>\n",
       "      <th>Wine Shop</th>\n",
       "      <th>Wings Joint</th>\n",
       "      <th>Women's Store</th>\n",
       "      <th>Yoga Studio</th>\n",
       "    </tr>\n",
       "  </thead>\n",
       "  <tbody>\n",
       "    <tr>\n",
       "      <th>0</th>\n",
       "      <td>St. George</td>\n",
       "      <td>0</td>\n",
       "      <td>0</td>\n",
       "      <td>0</td>\n",
       "      <td>0</td>\n",
       "      <td>0</td>\n",
       "      <td>0</td>\n",
       "      <td>0</td>\n",
       "      <td>0</td>\n",
       "      <td>0</td>\n",
       "      <td>...</td>\n",
       "      <td>0</td>\n",
       "      <td>0</td>\n",
       "      <td>0</td>\n",
       "      <td>0</td>\n",
       "      <td>0</td>\n",
       "      <td>0</td>\n",
       "      <td>0</td>\n",
       "      <td>0</td>\n",
       "      <td>0</td>\n",
       "      <td>0</td>\n",
       "    </tr>\n",
       "    <tr>\n",
       "      <th>1</th>\n",
       "      <td>St. George</td>\n",
       "      <td>0</td>\n",
       "      <td>0</td>\n",
       "      <td>0</td>\n",
       "      <td>0</td>\n",
       "      <td>0</td>\n",
       "      <td>0</td>\n",
       "      <td>0</td>\n",
       "      <td>0</td>\n",
       "      <td>0</td>\n",
       "      <td>...</td>\n",
       "      <td>0</td>\n",
       "      <td>0</td>\n",
       "      <td>0</td>\n",
       "      <td>0</td>\n",
       "      <td>0</td>\n",
       "      <td>0</td>\n",
       "      <td>0</td>\n",
       "      <td>0</td>\n",
       "      <td>0</td>\n",
       "      <td>0</td>\n",
       "    </tr>\n",
       "    <tr>\n",
       "      <th>2</th>\n",
       "      <td>St. George</td>\n",
       "      <td>0</td>\n",
       "      <td>0</td>\n",
       "      <td>0</td>\n",
       "      <td>0</td>\n",
       "      <td>0</td>\n",
       "      <td>0</td>\n",
       "      <td>0</td>\n",
       "      <td>0</td>\n",
       "      <td>0</td>\n",
       "      <td>...</td>\n",
       "      <td>0</td>\n",
       "      <td>0</td>\n",
       "      <td>0</td>\n",
       "      <td>0</td>\n",
       "      <td>0</td>\n",
       "      <td>0</td>\n",
       "      <td>0</td>\n",
       "      <td>0</td>\n",
       "      <td>0</td>\n",
       "      <td>0</td>\n",
       "    </tr>\n",
       "    <tr>\n",
       "      <th>3</th>\n",
       "      <td>St. George</td>\n",
       "      <td>0</td>\n",
       "      <td>0</td>\n",
       "      <td>0</td>\n",
       "      <td>0</td>\n",
       "      <td>0</td>\n",
       "      <td>0</td>\n",
       "      <td>0</td>\n",
       "      <td>0</td>\n",
       "      <td>0</td>\n",
       "      <td>...</td>\n",
       "      <td>0</td>\n",
       "      <td>0</td>\n",
       "      <td>0</td>\n",
       "      <td>0</td>\n",
       "      <td>0</td>\n",
       "      <td>0</td>\n",
       "      <td>0</td>\n",
       "      <td>0</td>\n",
       "      <td>0</td>\n",
       "      <td>0</td>\n",
       "    </tr>\n",
       "    <tr>\n",
       "      <th>4</th>\n",
       "      <td>St. George</td>\n",
       "      <td>0</td>\n",
       "      <td>0</td>\n",
       "      <td>0</td>\n",
       "      <td>0</td>\n",
       "      <td>0</td>\n",
       "      <td>0</td>\n",
       "      <td>0</td>\n",
       "      <td>0</td>\n",
       "      <td>0</td>\n",
       "      <td>...</td>\n",
       "      <td>0</td>\n",
       "      <td>0</td>\n",
       "      <td>0</td>\n",
       "      <td>0</td>\n",
       "      <td>0</td>\n",
       "      <td>0</td>\n",
       "      <td>0</td>\n",
       "      <td>0</td>\n",
       "      <td>0</td>\n",
       "      <td>0</td>\n",
       "    </tr>\n",
       "  </tbody>\n",
       "</table>\n",
       "<p>5 rows × 213 columns</p>\n",
       "</div>"
      ],
      "text/plain": [
       "  Neighborhood  American Restaurant  Arcade  Art Gallery  Art Museum  \\\n",
       "0   St. George                    0       0            0           0   \n",
       "1   St. George                    0       0            0           0   \n",
       "2   St. George                    0       0            0           0   \n",
       "3   St. George                    0       0            0           0   \n",
       "4   St. George                    0       0            0           0   \n",
       "\n",
       "   Arts & Crafts Store  Asian Restaurant  Athletics & Sports  Automotive Shop  \\\n",
       "0                    0                 0                   0                0   \n",
       "1                    0                 0                   0                0   \n",
       "2                    0                 0                   0                0   \n",
       "3                    0                 0                   0                0   \n",
       "4                    0                 0                   0                0   \n",
       "\n",
       "   BBQ Joint  ...  Train Station  Vegetarian / Vegan Restaurant  \\\n",
       "0          0  ...              0                              0   \n",
       "1          0  ...              0                              0   \n",
       "2          0  ...              0                              0   \n",
       "3          0  ...              0                              0   \n",
       "4          0  ...              0                              0   \n",
       "\n",
       "   Video Game Store  Video Store  Vietnamese Restaurant  Weight Loss Center  \\\n",
       "0                 0            0                      0                   0   \n",
       "1                 0            0                      0                   0   \n",
       "2                 0            0                      0                   0   \n",
       "3                 0            0                      0                   0   \n",
       "4                 0            0                      0                   0   \n",
       "\n",
       "   Wine Shop  Wings Joint  Women's Store  Yoga Studio  \n",
       "0          0            0              0            0  \n",
       "1          0            0              0            0  \n",
       "2          0            0              0            0  \n",
       "3          0            0              0            0  \n",
       "4          0            0              0            0  \n",
       "\n",
       "[5 rows x 213 columns]"
      ]
     },
     "execution_count": 896,
     "metadata": {},
     "output_type": "execute_result"
    }
   ],
   "source": [
    "# one hot encoding\n",
    "df_onehot = pd.get_dummies(Data_venues[['Venue Category']],\n",
    "                                  prefix=\"\", prefix_sep=\"\")\n",
    "\n",
    "# add neighborhood column back to dataframe\n",
    "df_onehot['Neighborhood'] = Data_venues['Neighborhood'] \n",
    "\n",
    "# move neighborhood column to the first column\n",
    "fixed_columns = [df_onehot.columns[-1]] + list(df_onehot.columns[:-1])\n",
    "df_onehot = df_onehot[fixed_columns]\n",
    "\n",
    "\n",
    "df_onehot.head()"
   ]
  },
  {
   "cell_type": "markdown",
   "metadata": {},
   "source": [
    "#### Now let's group our venue category by neighberhood\n"
   ]
  },
  {
   "cell_type": "code",
   "execution_count": 897,
   "metadata": {},
   "outputs": [
    {
     "data": {
      "text/html": [
       "<div>\n",
       "<style scoped>\n",
       "    .dataframe tbody tr th:only-of-type {\n",
       "        vertical-align: middle;\n",
       "    }\n",
       "\n",
       "    .dataframe tbody tr th {\n",
       "        vertical-align: top;\n",
       "    }\n",
       "\n",
       "    .dataframe thead th {\n",
       "        text-align: right;\n",
       "    }\n",
       "</style>\n",
       "<table border=\"1\" class=\"dataframe\">\n",
       "  <thead>\n",
       "    <tr style=\"text-align: right;\">\n",
       "      <th></th>\n",
       "      <th>Neighborhood</th>\n",
       "      <th>American Restaurant</th>\n",
       "      <th>Arcade</th>\n",
       "      <th>Art Gallery</th>\n",
       "      <th>Art Museum</th>\n",
       "      <th>Arts &amp; Crafts Store</th>\n",
       "      <th>Asian Restaurant</th>\n",
       "      <th>Athletics &amp; Sports</th>\n",
       "      <th>Automotive Shop</th>\n",
       "      <th>BBQ Joint</th>\n",
       "      <th>...</th>\n",
       "      <th>Train Station</th>\n",
       "      <th>Vegetarian / Vegan Restaurant</th>\n",
       "      <th>Video Game Store</th>\n",
       "      <th>Video Store</th>\n",
       "      <th>Vietnamese Restaurant</th>\n",
       "      <th>Weight Loss Center</th>\n",
       "      <th>Wine Shop</th>\n",
       "      <th>Wings Joint</th>\n",
       "      <th>Women's Store</th>\n",
       "      <th>Yoga Studio</th>\n",
       "    </tr>\n",
       "  </thead>\n",
       "  <tbody>\n",
       "    <tr>\n",
       "      <th>0</th>\n",
       "      <td>Annadale</td>\n",
       "      <td>0.133333</td>\n",
       "      <td>0.0</td>\n",
       "      <td>0.0</td>\n",
       "      <td>0.0</td>\n",
       "      <td>0.0</td>\n",
       "      <td>0.0</td>\n",
       "      <td>0.000000</td>\n",
       "      <td>0.0</td>\n",
       "      <td>0.0</td>\n",
       "      <td>...</td>\n",
       "      <td>0.066667</td>\n",
       "      <td>0.0</td>\n",
       "      <td>0.0</td>\n",
       "      <td>0.0</td>\n",
       "      <td>0.0</td>\n",
       "      <td>0.0</td>\n",
       "      <td>0.0</td>\n",
       "      <td>0.0</td>\n",
       "      <td>0.0</td>\n",
       "      <td>0.0</td>\n",
       "    </tr>\n",
       "    <tr>\n",
       "      <th>1</th>\n",
       "      <td>Arden Heights</td>\n",
       "      <td>0.000000</td>\n",
       "      <td>0.0</td>\n",
       "      <td>0.0</td>\n",
       "      <td>0.0</td>\n",
       "      <td>0.0</td>\n",
       "      <td>0.0</td>\n",
       "      <td>0.000000</td>\n",
       "      <td>0.0</td>\n",
       "      <td>0.0</td>\n",
       "      <td>...</td>\n",
       "      <td>0.000000</td>\n",
       "      <td>0.0</td>\n",
       "      <td>0.0</td>\n",
       "      <td>0.0</td>\n",
       "      <td>0.0</td>\n",
       "      <td>0.0</td>\n",
       "      <td>0.0</td>\n",
       "      <td>0.0</td>\n",
       "      <td>0.0</td>\n",
       "      <td>0.0</td>\n",
       "    </tr>\n",
       "    <tr>\n",
       "      <th>2</th>\n",
       "      <td>Arlington</td>\n",
       "      <td>0.000000</td>\n",
       "      <td>0.0</td>\n",
       "      <td>0.0</td>\n",
       "      <td>0.0</td>\n",
       "      <td>0.0</td>\n",
       "      <td>0.0</td>\n",
       "      <td>0.000000</td>\n",
       "      <td>0.0</td>\n",
       "      <td>0.0</td>\n",
       "      <td>...</td>\n",
       "      <td>0.000000</td>\n",
       "      <td>0.0</td>\n",
       "      <td>0.0</td>\n",
       "      <td>0.0</td>\n",
       "      <td>0.0</td>\n",
       "      <td>0.0</td>\n",
       "      <td>0.0</td>\n",
       "      <td>0.0</td>\n",
       "      <td>0.0</td>\n",
       "      <td>0.0</td>\n",
       "    </tr>\n",
       "    <tr>\n",
       "      <th>3</th>\n",
       "      <td>Arrochar</td>\n",
       "      <td>0.000000</td>\n",
       "      <td>0.0</td>\n",
       "      <td>0.0</td>\n",
       "      <td>0.0</td>\n",
       "      <td>0.0</td>\n",
       "      <td>0.0</td>\n",
       "      <td>0.030303</td>\n",
       "      <td>0.0</td>\n",
       "      <td>0.0</td>\n",
       "      <td>...</td>\n",
       "      <td>0.000000</td>\n",
       "      <td>0.0</td>\n",
       "      <td>0.0</td>\n",
       "      <td>0.0</td>\n",
       "      <td>0.0</td>\n",
       "      <td>0.0</td>\n",
       "      <td>0.0</td>\n",
       "      <td>0.0</td>\n",
       "      <td>0.0</td>\n",
       "      <td>0.0</td>\n",
       "    </tr>\n",
       "    <tr>\n",
       "      <th>4</th>\n",
       "      <td>Bay Terrace</td>\n",
       "      <td>0.066667</td>\n",
       "      <td>0.0</td>\n",
       "      <td>0.0</td>\n",
       "      <td>0.0</td>\n",
       "      <td>0.0</td>\n",
       "      <td>0.0</td>\n",
       "      <td>0.000000</td>\n",
       "      <td>0.0</td>\n",
       "      <td>0.0</td>\n",
       "      <td>...</td>\n",
       "      <td>0.000000</td>\n",
       "      <td>0.0</td>\n",
       "      <td>0.0</td>\n",
       "      <td>0.0</td>\n",
       "      <td>0.0</td>\n",
       "      <td>0.0</td>\n",
       "      <td>0.0</td>\n",
       "      <td>0.0</td>\n",
       "      <td>0.0</td>\n",
       "      <td>0.0</td>\n",
       "    </tr>\n",
       "  </tbody>\n",
       "</table>\n",
       "<p>5 rows × 213 columns</p>\n",
       "</div>"
      ],
      "text/plain": [
       "    Neighborhood  American Restaurant  Arcade  Art Gallery  Art Museum  \\\n",
       "0       Annadale             0.133333     0.0          0.0         0.0   \n",
       "1  Arden Heights             0.000000     0.0          0.0         0.0   \n",
       "2      Arlington             0.000000     0.0          0.0         0.0   \n",
       "3       Arrochar             0.000000     0.0          0.0         0.0   \n",
       "4    Bay Terrace             0.066667     0.0          0.0         0.0   \n",
       "\n",
       "   Arts & Crafts Store  Asian Restaurant  Athletics & Sports  Automotive Shop  \\\n",
       "0                  0.0               0.0            0.000000              0.0   \n",
       "1                  0.0               0.0            0.000000              0.0   \n",
       "2                  0.0               0.0            0.000000              0.0   \n",
       "3                  0.0               0.0            0.030303              0.0   \n",
       "4                  0.0               0.0            0.000000              0.0   \n",
       "\n",
       "   BBQ Joint  ...  Train Station  Vegetarian / Vegan Restaurant  \\\n",
       "0        0.0  ...       0.066667                            0.0   \n",
       "1        0.0  ...       0.000000                            0.0   \n",
       "2        0.0  ...       0.000000                            0.0   \n",
       "3        0.0  ...       0.000000                            0.0   \n",
       "4        0.0  ...       0.000000                            0.0   \n",
       "\n",
       "   Video Game Store  Video Store  Vietnamese Restaurant  Weight Loss Center  \\\n",
       "0               0.0          0.0                    0.0                 0.0   \n",
       "1               0.0          0.0                    0.0                 0.0   \n",
       "2               0.0          0.0                    0.0                 0.0   \n",
       "3               0.0          0.0                    0.0                 0.0   \n",
       "4               0.0          0.0                    0.0                 0.0   \n",
       "\n",
       "   Wine Shop  Wings Joint  Women's Store  Yoga Studio  \n",
       "0        0.0          0.0            0.0          0.0  \n",
       "1        0.0          0.0            0.0          0.0  \n",
       "2        0.0          0.0            0.0          0.0  \n",
       "3        0.0          0.0            0.0          0.0  \n",
       "4        0.0          0.0            0.0          0.0  \n",
       "\n",
       "[5 rows x 213 columns]"
      ]
     },
     "execution_count": 897,
     "metadata": {},
     "output_type": "execute_result"
    }
   ],
   "source": [
    "df_grouped=df_onehot.groupby('Neighborhood').mean().reset_index()\n",
    "df_grouped.head()"
   ]
  },
  {
   "cell_type": "markdown",
   "metadata": {},
   "source": [
    "#### Let's print each neighborhood along with the top 10 most common venues\n"
   ]
  },
  {
   "cell_type": "code",
   "execution_count": 1044,
   "metadata": {},
   "outputs": [
    {
     "data": {
      "text/plain": [
       "'\\nnum_top_venues = 10\\n\\nfor hood in df_grouped[\\'Neighborhood\\']:\\n    print(\"----\"+hood+\"----\")\\n    temp = df_grouped[df_grouped[\\'Neighborhood\\'] == hood].T.reset_index()\\n    temp.columns = [\\'venue\\',\\'freq\\']\\n    temp = temp.iloc[1:]\\n    temp[\\'freq\\'] = temp[\\'freq\\'].astype(float)\\n    temp = temp.round({\\'freq\\': 2})\\n    print(temp.sort_values(\\'freq\\', ascending=False).reset_index(drop=True).head(num_top_venues))\\n    print(\\'\\n\\')\\n'"
      ]
     },
     "execution_count": 1044,
     "metadata": {},
     "output_type": "execute_result"
    }
   ],
   "source": [
    "\"\"\"\n",
    "num_top_venues = 10\n",
    "\n",
    "for hood in df_grouped['Neighborhood']:\n",
    "    print(\"----\"+hood+\"----\")\n",
    "    temp = df_grouped[df_grouped['Neighborhood'] == hood].T.reset_index()\n",
    "    temp.columns = ['venue','freq']\n",
    "    temp = temp.iloc[1:]\n",
    "    temp['freq'] = temp['freq'].astype(float)\n",
    "    temp = temp.round({'freq': 2})\n",
    "    print(temp.sort_values('freq', ascending=False).reset_index(drop=True).head(num_top_venues))\n",
    "    print('\\n')\n",
    "\"\"\""
   ]
  },
  {
   "cell_type": "code",
   "execution_count": 967,
   "metadata": {},
   "outputs": [],
   "source": [
    "def return_most_common_venues(row, num_top_venues):\n",
    "    row_categories = row.iloc[1:]\n",
    "    row_categories_sorted = row_categories.sort_values(ascending=False)\n",
    "    \n",
    "    return row_categories_sorted.index.values[0:num_top_venues]"
   ]
  },
  {
   "cell_type": "markdown",
   "metadata": {},
   "source": [
    "#### Let's put that into a _pandas_ dataframe\n"
   ]
  },
  {
   "cell_type": "code",
   "execution_count": 968,
   "metadata": {},
   "outputs": [
    {
     "data": {
      "text/html": [
       "<div>\n",
       "<style scoped>\n",
       "    .dataframe tbody tr th:only-of-type {\n",
       "        vertical-align: middle;\n",
       "    }\n",
       "\n",
       "    .dataframe tbody tr th {\n",
       "        vertical-align: top;\n",
       "    }\n",
       "\n",
       "    .dataframe thead th {\n",
       "        text-align: right;\n",
       "    }\n",
       "</style>\n",
       "<table border=\"1\" class=\"dataframe\">\n",
       "  <thead>\n",
       "    <tr style=\"text-align: right;\">\n",
       "      <th></th>\n",
       "      <th>Neighborhood</th>\n",
       "      <th>1st Most Common Venue</th>\n",
       "      <th>2nd Most Common Venue</th>\n",
       "      <th>3rd Most Common Venue</th>\n",
       "      <th>4th Most Common Venue</th>\n",
       "      <th>5th Most Common Venue</th>\n",
       "      <th>6th Most Common Venue</th>\n",
       "      <th>7th Most Common Venue</th>\n",
       "      <th>8th Most Common Venue</th>\n",
       "      <th>9th Most Common Venue</th>\n",
       "      <th>10th Most Common Venue</th>\n",
       "    </tr>\n",
       "  </thead>\n",
       "  <tbody>\n",
       "    <tr>\n",
       "      <th>0</th>\n",
       "      <td>Annadale</td>\n",
       "      <td>American Restaurant</td>\n",
       "      <td>Pizza Place</td>\n",
       "      <td>Restaurant</td>\n",
       "      <td>Bus Stop</td>\n",
       "      <td>Park</td>\n",
       "      <td>Trail</td>\n",
       "      <td>Train Station</td>\n",
       "      <td>Home Service</td>\n",
       "      <td>Dance Studio</td>\n",
       "      <td>Deli / Bodega</td>\n",
       "    </tr>\n",
       "    <tr>\n",
       "      <th>1</th>\n",
       "      <td>Arden Heights</td>\n",
       "      <td>Sandwich Place</td>\n",
       "      <td>Bagel Shop</td>\n",
       "      <td>Food</td>\n",
       "      <td>Sushi Restaurant</td>\n",
       "      <td>Shopping Mall</td>\n",
       "      <td>Mexican Restaurant</td>\n",
       "      <td>Optical Shop</td>\n",
       "      <td>Coffee Shop</td>\n",
       "      <td>Bus Stop</td>\n",
       "      <td>Bank</td>\n",
       "    </tr>\n",
       "    <tr>\n",
       "      <th>2</th>\n",
       "      <td>Arlington</td>\n",
       "      <td>Bus Stop</td>\n",
       "      <td>Deli / Bodega</td>\n",
       "      <td>Boat or Ferry</td>\n",
       "      <td>Grocery Store</td>\n",
       "      <td>Home Service</td>\n",
       "      <td>Snack Place</td>\n",
       "      <td>Construction &amp; Landscaping</td>\n",
       "      <td>Coffee Shop</td>\n",
       "      <td>Yoga Studio</td>\n",
       "      <td>Food Truck</td>\n",
       "    </tr>\n",
       "    <tr>\n",
       "      <th>3</th>\n",
       "      <td>Arrochar</td>\n",
       "      <td>Bus Stop</td>\n",
       "      <td>Deli / Bodega</td>\n",
       "      <td>Baseball Field</td>\n",
       "      <td>Italian Restaurant</td>\n",
       "      <td>Cosmetics Shop</td>\n",
       "      <td>Beach</td>\n",
       "      <td>Pharmacy</td>\n",
       "      <td>Food Truck</td>\n",
       "      <td>Middle Eastern Restaurant</td>\n",
       "      <td>Sculpture Garden</td>\n",
       "    </tr>\n",
       "    <tr>\n",
       "      <th>4</th>\n",
       "      <td>Bay Terrace</td>\n",
       "      <td>Donut Shop</td>\n",
       "      <td>Supermarket</td>\n",
       "      <td>American Restaurant</td>\n",
       "      <td>Sushi Restaurant</td>\n",
       "      <td>Italian Restaurant</td>\n",
       "      <td>Liquor Store</td>\n",
       "      <td>Food Truck</td>\n",
       "      <td>Food &amp; Drink Shop</td>\n",
       "      <td>Playground</td>\n",
       "      <td>Salon / Barbershop</td>\n",
       "    </tr>\n",
       "  </tbody>\n",
       "</table>\n",
       "</div>"
      ],
      "text/plain": [
       "    Neighborhood 1st Most Common Venue 2nd Most Common Venue  \\\n",
       "0       Annadale   American Restaurant           Pizza Place   \n",
       "1  Arden Heights        Sandwich Place            Bagel Shop   \n",
       "2      Arlington              Bus Stop         Deli / Bodega   \n",
       "3       Arrochar              Bus Stop         Deli / Bodega   \n",
       "4    Bay Terrace            Donut Shop           Supermarket   \n",
       "\n",
       "  3rd Most Common Venue 4th Most Common Venue 5th Most Common Venue  \\\n",
       "0            Restaurant              Bus Stop                  Park   \n",
       "1                  Food      Sushi Restaurant         Shopping Mall   \n",
       "2         Boat or Ferry         Grocery Store          Home Service   \n",
       "3        Baseball Field    Italian Restaurant        Cosmetics Shop   \n",
       "4   American Restaurant      Sushi Restaurant    Italian Restaurant   \n",
       "\n",
       "  6th Most Common Venue       7th Most Common Venue 8th Most Common Venue  \\\n",
       "0                 Trail               Train Station          Home Service   \n",
       "1    Mexican Restaurant                Optical Shop           Coffee Shop   \n",
       "2           Snack Place  Construction & Landscaping           Coffee Shop   \n",
       "3                 Beach                    Pharmacy            Food Truck   \n",
       "4          Liquor Store                  Food Truck     Food & Drink Shop   \n",
       "\n",
       "       9th Most Common Venue 10th Most Common Venue  \n",
       "0               Dance Studio          Deli / Bodega  \n",
       "1                   Bus Stop                   Bank  \n",
       "2                Yoga Studio             Food Truck  \n",
       "3  Middle Eastern Restaurant       Sculpture Garden  \n",
       "4                 Playground     Salon / Barbershop  "
      ]
     },
     "execution_count": 968,
     "metadata": {},
     "output_type": "execute_result"
    }
   ],
   "source": [
    "num_top_venues = 10\n",
    "\n",
    "indicators = ['st', 'nd', 'rd']\n",
    "\n",
    "# create columns according to number of top venues\n",
    "columns = ['Neighborhood']\n",
    "for ind in np.arange(num_top_venues):\n",
    "    try:\n",
    "        columns.append('{}{} Most Common Venue'.format(ind+1, indicators[ind]))\n",
    "    except:\n",
    "        columns.append('{}th Most Common Venue'.format(ind+1))\n",
    "\n",
    "# create a new dataframe\n",
    "df_venues_sorted = pd.DataFrame(columns=columns)\n",
    "df_venues_sorted['Neighborhood'] = df_grouped['Neighborhood']\n",
    "\n",
    "for ind in np.arange(df_grouped.shape[0]):\n",
    "    df_venues_sorted.iloc[ind, 1:] = return_most_common_venues(df_grouped.iloc[ind, :], num_top_venues)\n",
    "\n",
    "df_venues_sorted.head()"
   ]
  },
  {
   "cell_type": "markdown",
   "metadata": {},
   "source": [
    "## Clustering the neighborhoods"
   ]
  },
  {
   "cell_type": "code",
   "execution_count": 987,
   "metadata": {},
   "outputs": [
    {
     "data": {
      "text/plain": [
       "array([0, 3, 4, 4, 0, 0, 0, 3, 1, 3], dtype=int32)"
      ]
     },
     "execution_count": 987,
     "metadata": {},
     "output_type": "execute_result"
    }
   ],
   "source": [
    "# set number of clusters\n",
    "kclusters = 5\n",
    "\n",
    "df_grouped_clustering = df_grouped.drop('Neighborhood', 1)\n",
    "\n",
    "# run k-means clustering\n",
    "kmeans = KMeans(n_clusters=kclusters,n_init=10,\n",
    "                init='random',random_state=0).fit(df_grouped_clustering)\n",
    "\n",
    "# check cluster labels generated for each row in the dataframe\n",
    "kmeans.labels_[0:10] "
   ]
  },
  {
   "cell_type": "code",
   "execution_count": 988,
   "metadata": {},
   "outputs": [
    {
     "data": {
      "text/html": [
       "<div>\n",
       "<style scoped>\n",
       "    .dataframe tbody tr th:only-of-type {\n",
       "        vertical-align: middle;\n",
       "    }\n",
       "\n",
       "    .dataframe tbody tr th {\n",
       "        vertical-align: top;\n",
       "    }\n",
       "\n",
       "    .dataframe thead th {\n",
       "        text-align: right;\n",
       "    }\n",
       "</style>\n",
       "<table border=\"1\" class=\"dataframe\">\n",
       "  <thead>\n",
       "    <tr style=\"text-align: right;\">\n",
       "      <th></th>\n",
       "      <th>Borough</th>\n",
       "      <th>Neighborhood</th>\n",
       "      <th>Latitude</th>\n",
       "      <th>Longitude</th>\n",
       "      <th>1st Most Common Venue</th>\n",
       "      <th>2nd Most Common Venue</th>\n",
       "      <th>3rd Most Common Venue</th>\n",
       "      <th>4th Most Common Venue</th>\n",
       "      <th>5th Most Common Venue</th>\n",
       "      <th>6th Most Common Venue</th>\n",
       "      <th>7th Most Common Venue</th>\n",
       "      <th>8th Most Common Venue</th>\n",
       "      <th>9th Most Common Venue</th>\n",
       "      <th>10th Most Common Venue</th>\n",
       "      <th>Cluster Labels</th>\n",
       "    </tr>\n",
       "  </thead>\n",
       "  <tbody>\n",
       "    <tr>\n",
       "      <th>0</th>\n",
       "      <td>Staten Island</td>\n",
       "      <td>St. George</td>\n",
       "      <td>40.644982</td>\n",
       "      <td>-74.079353</td>\n",
       "      <td>Clothing Store</td>\n",
       "      <td>Deli / Bodega</td>\n",
       "      <td>Italian Restaurant</td>\n",
       "      <td>Bar</td>\n",
       "      <td>Sporting Goods Shop</td>\n",
       "      <td>Pharmacy</td>\n",
       "      <td>Pizza Place</td>\n",
       "      <td>Sandwich Place</td>\n",
       "      <td>American Restaurant</td>\n",
       "      <td>Rock Club</td>\n",
       "      <td>0</td>\n",
       "    </tr>\n",
       "    <tr>\n",
       "      <th>1</th>\n",
       "      <td>Staten Island</td>\n",
       "      <td>New Brighton</td>\n",
       "      <td>40.640615</td>\n",
       "      <td>-74.087017</td>\n",
       "      <td>Deli / Bodega</td>\n",
       "      <td>Mexican Restaurant</td>\n",
       "      <td>Indian Restaurant</td>\n",
       "      <td>Park</td>\n",
       "      <td>Food Truck</td>\n",
       "      <td>Bus Stop</td>\n",
       "      <td>Garden Center</td>\n",
       "      <td>Boat or Ferry</td>\n",
       "      <td>Farmers Market</td>\n",
       "      <td>Sri Lankan Restaurant</td>\n",
       "      <td>4</td>\n",
       "    </tr>\n",
       "    <tr>\n",
       "      <th>2</th>\n",
       "      <td>Staten Island</td>\n",
       "      <td>Stapleton</td>\n",
       "      <td>40.626928</td>\n",
       "      <td>-74.077902</td>\n",
       "      <td>Deli / Bodega</td>\n",
       "      <td>Sandwich Place</td>\n",
       "      <td>Discount Store</td>\n",
       "      <td>Pizza Place</td>\n",
       "      <td>Bank</td>\n",
       "      <td>Sri Lankan Restaurant</td>\n",
       "      <td>Spanish Restaurant</td>\n",
       "      <td>Donut Shop</td>\n",
       "      <td>Bus Stop</td>\n",
       "      <td>Miscellaneous Shop</td>\n",
       "      <td>0</td>\n",
       "    </tr>\n",
       "    <tr>\n",
       "      <th>3</th>\n",
       "      <td>Staten Island</td>\n",
       "      <td>Rosebank</td>\n",
       "      <td>40.615305</td>\n",
       "      <td>-74.069805</td>\n",
       "      <td>Mexican Restaurant</td>\n",
       "      <td>Chinese Restaurant</td>\n",
       "      <td>Deli / Bodega</td>\n",
       "      <td>Beach</td>\n",
       "      <td>Train Station</td>\n",
       "      <td>Pizza Place</td>\n",
       "      <td>Grocery Store</td>\n",
       "      <td>Italian Restaurant</td>\n",
       "      <td>Gastropub</td>\n",
       "      <td>Filipino Restaurant</td>\n",
       "      <td>3</td>\n",
       "    </tr>\n",
       "    <tr>\n",
       "      <th>4</th>\n",
       "      <td>Staten Island</td>\n",
       "      <td>West Brighton</td>\n",
       "      <td>40.631879</td>\n",
       "      <td>-74.107182</td>\n",
       "      <td>Pizza Place</td>\n",
       "      <td>Bus Stop</td>\n",
       "      <td>Italian Restaurant</td>\n",
       "      <td>Coffee Shop</td>\n",
       "      <td>Bagel Shop</td>\n",
       "      <td>Food &amp; Drink Shop</td>\n",
       "      <td>Bank</td>\n",
       "      <td>Bar</td>\n",
       "      <td>Fast Food Restaurant</td>\n",
       "      <td>Ice Cream Shop</td>\n",
       "      <td>0</td>\n",
       "    </tr>\n",
       "  </tbody>\n",
       "</table>\n",
       "</div>"
      ],
      "text/plain": [
       "         Borough   Neighborhood   Latitude  Longitude 1st Most Common Venue  \\\n",
       "0  Staten Island     St. George  40.644982 -74.079353        Clothing Store   \n",
       "1  Staten Island   New Brighton  40.640615 -74.087017         Deli / Bodega   \n",
       "2  Staten Island      Stapleton  40.626928 -74.077902         Deli / Bodega   \n",
       "3  Staten Island       Rosebank  40.615305 -74.069805    Mexican Restaurant   \n",
       "4  Staten Island  West Brighton  40.631879 -74.107182           Pizza Place   \n",
       "\n",
       "  2nd Most Common Venue 3rd Most Common Venue 4th Most Common Venue  \\\n",
       "0         Deli / Bodega    Italian Restaurant                   Bar   \n",
       "1    Mexican Restaurant     Indian Restaurant                  Park   \n",
       "2        Sandwich Place        Discount Store           Pizza Place   \n",
       "3    Chinese Restaurant         Deli / Bodega                 Beach   \n",
       "4              Bus Stop    Italian Restaurant           Coffee Shop   \n",
       "\n",
       "  5th Most Common Venue  6th Most Common Venue 7th Most Common Venue  \\\n",
       "0   Sporting Goods Shop               Pharmacy           Pizza Place   \n",
       "1            Food Truck               Bus Stop         Garden Center   \n",
       "2                  Bank  Sri Lankan Restaurant    Spanish Restaurant   \n",
       "3         Train Station            Pizza Place         Grocery Store   \n",
       "4            Bagel Shop      Food & Drink Shop                  Bank   \n",
       "\n",
       "  8th Most Common Venue 9th Most Common Venue 10th Most Common Venue  \\\n",
       "0        Sandwich Place   American Restaurant              Rock Club   \n",
       "1         Boat or Ferry        Farmers Market  Sri Lankan Restaurant   \n",
       "2            Donut Shop              Bus Stop     Miscellaneous Shop   \n",
       "3    Italian Restaurant             Gastropub    Filipino Restaurant   \n",
       "4                   Bar  Fast Food Restaurant         Ice Cream Shop   \n",
       "\n",
       "   Cluster Labels  \n",
       "0               0  \n",
       "1               4  \n",
       "2               0  \n",
       "3               3  \n",
       "4               0  "
      ]
     },
     "execution_count": 988,
     "metadata": {},
     "output_type": "execute_result"
    }
   ],
   "source": [
    "# add clustering labels\n",
    "df_venues_sorted['Cluster Labels']=kmeans.labels_\n",
    "\n",
    "df_merged = df_SI\n",
    "\n",
    "# merge manhattan_grouped with manhattan_data to add latitude/longitude for each neighborhood\n",
    "df_merged = df_merged.join(df_venues_sorted.set_index('Neighborhood'), on='Neighborhood')\n",
    "\n",
    "df_merged.head() # check the last columns!"
   ]
  },
  {
   "cell_type": "code",
   "execution_count": 989,
   "metadata": {
    "scrolled": true
   },
   "outputs": [],
   "source": [
    "# create map\n",
    "map_02 = folium.Map(location=[John_latitude, John_longitude], zoom_start=11)\n",
    "\n",
    "# set color scheme for the clusters\n",
    "x = np.arange(kclusters)\n",
    "ys = [i + x + (i*x)**2 for i in range(kclusters)]\n",
    "colors_array = cm.rainbow(np.linspace(0, 1, len(ys)))\n",
    "rainbow = [colors.rgb2hex(i) for i in colors_array]\n",
    "\n",
    "# add markers to the map\n",
    "markers_colors = []\n",
    "for lat, lon, poi, cluster in zip(df_merged['Latitude'],\n",
    "                                  df_merged['Longitude'],\n",
    "                                  df_merged['Neighborhood'],\n",
    "                                  df_merged['Cluster Labels']):\n",
    "    label = folium.Popup(str(poi) + ' Cluster ' + str(cluster), parse_html=True)\n",
    "    folium.CircleMarker(\n",
    "        [lat, lon],\n",
    "        radius=5,\n",
    "        popup=label,\n",
    "        color=rainbow[cluster-1],\n",
    "        fill=True,\n",
    "        fill_color=rainbow[cluster-1],\n",
    "        fill_opacity=0.8).add_to(map_02)\n",
    "       \n",
    "map_02\n",
    "map_02.save('map_02.html')"
   ]
  },
  {
   "cell_type": "code",
   "execution_count": 1039,
   "metadata": {
    "scrolled": false
   },
   "outputs": [
    {
     "name": "stdout",
     "output_type": "stream",
     "text": [
      "==============================================================\n",
      "Addresses of Staten Island similar to John neighborhood in Belmont: 24\n",
      "==============================================================\n",
      "\n"
     ]
    },
    {
     "data": {
      "text/plain": [
       "['Annadale',\n",
       " 'Bay Terrace',\n",
       " 'Belmont',\n",
       " 'Bloomfield',\n",
       " 'Charleston',\n",
       " 'Chelsea',\n",
       " 'Egbertville',\n",
       " 'Grant City',\n",
       " 'Great Kills',\n",
       " 'Grymes Hill',\n",
       " 'Howland Hook',\n",
       " 'Huguenot',\n",
       " 'Lighthouse Hill',\n",
       " 'New Dorp',\n",
       " 'New Dorp Beach',\n",
       " 'Old Town',\n",
       " 'Pleasant Plains',\n",
       " 'Richmond Valley',\n",
       " 'Silver Lake',\n",
       " 'St. George',\n",
       " 'Stapleton',\n",
       " 'Tompkinsville',\n",
       " 'Tottenville',\n",
       " 'Travis',\n",
       " 'West Brighton']"
      ]
     },
     "execution_count": 1039,
     "metadata": {},
     "output_type": "execute_result"
    }
   ],
   "source": [
    "print('==============================================================')\n",
    "belmont_cluster=df_venues_sorted[df_venues_sorted['Neighborhood']=='Belmont']['Cluster Labels'].values[0]\n",
    "df_final=df_venues_sorted[df_venues_sorted['Cluster Labels']==belmont_cluster]\n",
    "neigh_lst=df_final['Neighborhood'].to_list()\n",
    "print('Addresses of Staten Island similar to John neighborhood in Belmont:',len(neigh_lst)-1)\n",
    "print('==============================================================\\n')\n",
    "neigh_lst"
   ]
  },
  {
   "cell_type": "markdown",
   "metadata": {},
   "source": [
    "### Ordering the results by Bakery since John has a preference for Bakery shops"
   ]
  },
  {
   "cell_type": "code",
   "execution_count": 1036,
   "metadata": {},
   "outputs": [],
   "source": [
    "dt=df_grouped.set_index('Neighborhood')\n",
    "dt=dt[Belmont_top_cat].loc[neigh_lst]"
   ]
  },
  {
   "cell_type": "code",
   "execution_count": 1037,
   "metadata": {},
   "outputs": [],
   "source": [
    "dt=dt.sort_values('Bakery',ascending=False).head(10)"
   ]
  },
  {
   "cell_type": "markdown",
   "metadata": {},
   "source": [
    "### Let's plot distribution of top venues categories of Belmont in the neighborhoods in Staten Islan similar to Belmont"
   ]
  },
  {
   "cell_type": "code",
   "execution_count": 1038,
   "metadata": {},
   "outputs": [
    {
     "data": {
      "image/png": "[encoded data removed]",
      "text/plain": [
       "<Figure size 576x432 with 1 Axes>"
      ]
     },
     "metadata": {
      "needs_background": "light"
     },
     "output_type": "display_data"
    }
   ],
   "source": [
    "dt.transpose().plot(kind='bar',width=0.8,figsize=(8,6))\n",
    "plt.title('Distribution of top venues categories order by Bakery',color='black',size=16)\n",
    "plt.ylabel('perc %',color='black',size=12)\n",
    "plt.legend(loc='upper right')\n",
    "plt.ylabel('perc %',color='black',size=12)\n",
    "plt.ylabel('Venues categories',color='black',size=12)\n",
    "plt.tight_layout()\n",
    "plt.savefig('img3.png')"
   ]
  },
  {
   "cell_type": "markdown",
   "metadata": {},
   "source": [
    "This concludes our analysis.\n",
    "\n",
    "We have created a final dataframe containing 24 Staten Island neighborhoods likely to be similar to John's neighborhood in Bronx.\n",
    "\n",
    "The analysis was based on venues category in each neighborhood. John can now make a better decision based on the results of this clustering approach."
   ]
  },
  {
   "cell_type": "markdown",
   "metadata": {},
   "source": [
    "## Results and Discussion <a name=\"results\"></a>"
   ]
  },
  {
   "attachments": {},
   "cell_type": "markdown",
   "metadata": {},
   "source": [
    "There are four neighbourhoods having approximately the same distribution of bakeries such as Belmont: Old Town, Tottenville, Pleasant Plains, Richmond Valley.\n",
    "\n",
    "Tottenville and Great Kills have a significant distribution of the most common venues in Belmont but the less common venues are not well represented while West Brighton is well distributed between many most common venues of Belmont.\n",
    "\n",
    "\n",
    "We can advise John to look for a new place in Tottenville if he is very interested in finding the four most common venues categories of Belmont (Italian restaurant, Pizza place, Deli/Bodega and bakery). Otherwise, if John is more interested in the overall most common venues categories, we could advise him West Brightont or Richmond valley."
   ]
  },
  {
   "cell_type": "markdown",
   "metadata": {},
   "source": [
    "## Conclusion <a name=\"conclusion\"></a>"
   ]
  },
  {
   "attachments": {},
   "cell_type": "markdown",
   "metadata": {},
   "source": [
    "\n",
    "Clustering of these neighbourhoods was performed in order to identify best Staten Island neighbourhoods having the 10 most common venues categories such as John' address in Belmont which are italian restaurant, pizza place, deli/bodega and bakry.\n",
    "\n",
    "Final decision on optimal neighbourhoods gives John the choice between 24 neighbourhoods having the similar common venues categories distribution such as his current address.\n",
    "We have made recommendations of 5 neighbourhoods from the 24 neighbourhoods found.\n",
    "\n",
    "\n",
    "John knows now that there are similar neighbourhoods in Staten Island and he could accept the new job offer. A further analysis could be improving the decision by narrowing the final list of 24 neighbourhoods by adding features such as proximity to his new work, proximity to airport or rent price."
   ]
  }
 ],
 "metadata": {
  "kernelspec": {
   "display_name": "Python 3",
   "language": "python",
   "name": "python3"
  },
  "language_info": {
   "codemirror_mode": {
    "name": "ipython",
    "version": 3
   },
   "file_extension": ".py",
   "mimetype": "text/x-python",
   "name": "python",
   "nbconvert_exporter": "python",
   "pygments_lexer": "ipython3",
   "version": "3.8.3"
  }
 },
 "nbformat": 4,
 "nbformat_minor": 1
}
